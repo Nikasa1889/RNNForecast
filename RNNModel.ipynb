{
 "cells": [
  {
   "cell_type": "code",
   "execution_count": 37,
   "metadata": {
    "collapsed": false
   },
   "outputs": [
    {
     "name": "stdout",
     "output_type": "stream",
     "text": [
      "The autoreload extension is already loaded. To reload it, use:\n",
      "  %reload_ext autoreload\n"
     ]
    }
   ],
   "source": [
    "%load_ext autoreload\n",
    "%autoreload 2\n",
    "\n",
    "import os.path\n",
    "import pandas as pd\n",
    "import numpy as np\n",
    "import time\n",
    "from datetime import timedelta\n",
    "import tensorflow as tf\n",
    "import json\n",
    "from loadData import loadData, convertToBatches\n",
    "from RNN import RNN, ExitCriteria, Parameters, Directories, RNNCellType\n",
    "\n",
    "import logging\n",
    "logging.basicConfig(filename='train.log', level=logging.DEBUG)\n",
    "logger = logging.getLogger(__name__)\n",
    "\n",
    "inputDir = \"GEFCom2012/\""
   ]
  },
  {
   "cell_type": "code",
   "execution_count": 38,
   "metadata": {
    "collapsed": false
   },
   "outputs": [],
   "source": [
    "modelDirectory = \"GEFCom2012/Model\"\n",
    "summaryDirectory = \"GEFCom2012/Model\"\n",
    "maxGradient = 1\n",
    "timeSteps = 24\n",
    "nHorizons = 24\n",
    "batchSize = 1\n",
    "nHiddenUnits = 200\n",
    "nLayers = 2\n",
    "init = 0.05\n",
    "inputSize = 1\n",
    "keepProbability = 1\n",
    "maxEpochs=200\n",
    "learningRate=1.0\n",
    "maxIterations = 1000000\n",
    "loggingInterval = 100\n",
    "cellType = RNNCellType.ESN\n",
    "#Load Data\n",
    "trainingDfs, completeDfs = loadData(\"GEFCom2012/\", maxDataPoints = -1)\n",
    "ts = trainingDfs[0][[\"zone.1\"]].values\n",
    "batches = convertToBatches(ts, timeSteps, batchSize, nHorizons)\n",
    "\n",
    "\n",
    "ts = trainingDfs[0][[\"zone.1\"]].values\n",
    "tsTest = completeDfs[0][[\"zone.1\"]].values\n",
    "tsTest = tsTest[len(ts):]\n",
    "ts = ts[-2160:] #only get 3 months of data\n",
    "##Normalize ts\n",
    "tsMean = ts.mean()\n",
    "tsRange = ts.max()-ts.min()\n",
    "ts = (ts-tsMean)/tsRange\n",
    "tsTest = (tsTest-tsMean)/tsRange\n",
    "if modelDirectory is None:\n",
    "    logger.warn(\"Not saving a model.\")\n",
    "logger.info(\"Start Experiment\")\n"
   ]
  },
  {
   "cell_type": "code",
   "execution_count": null,
   "metadata": {
    "collapsed": false
   },
   "outputs": [],
   "source": [
    "# Run training.\n",
    "start_time = time.time()\n",
    "with tf.device('/gpu:0'):\n",
    "    with tf.Graph().as_default():\n",
    "        model = RNN(maxGradient = maxGradient, \n",
    "                    timeSteps = timeSteps, \n",
    "                    nHorizons = nHorizons, \n",
    "                    inputSize = inputSize, \n",
    "                    nHiddenUnits = nHiddenUnits, \n",
    "                    cellType = cellType,\n",
    "                    nLayers = nLayers)\n",
    "        with tf.Session() as session:\n",
    "            tsTarget, tsFit, lastState = model.train(session = session, \n",
    "                        init = init, \n",
    "                        ts = ts, \n",
    "                        parameters = Parameters(learningRate, keepProbability, batchSize), \n",
    "                        exitCriteria = ExitCriteria(maxIterations, maxEpochs), \n",
    "                        validation = None, \n",
    "                        loggingInterval = loggingInterval, \n",
    "                        directories = Directories(modelDirectory, summaryDirectory),\n",
    "                        logger = logger)\n",
    "logger.info(\"Total training time %s\" % timedelta(seconds=(time.time() - start_time)))"
   ]
  },
  {
   "cell_type": "code",
   "execution_count": 14,
   "metadata": {
    "collapsed": false
   },
   "outputs": [],
   "source": [
    "# Test\n",
    "with tf.device('/gpu:0'):\n",
    "    with tf.Graph().as_default():\n",
    "        with tf.Session() as session:\n",
    "            model = RNN.restore(session, modelDirectory)\n",
    "            tsTarget, tsPredicted, epoch_cost = model.predict(session = session,\n",
    "                                                              startState = lastState, \n",
    "                                                              tsTest = tsTest,\n",
    "                                                              batchSize = 1)"
   ]
  },
  {
   "cell_type": "code",
   "execution_count": 16,
   "metadata": {
    "collapsed": false,
    "scrolled": false
   },
   "outputs": [
    {
     "name": "stdout",
     "output_type": "stream",
     "text": [
      "0.904882392198\n"
     ]
    },
    {
     "data": {
      "text/plain": [
       "4.0767728836322963"
      ]
     },
     "execution_count": 16,
     "metadata": {},
     "output_type": "execute_result"
    },
    {
     "data": {
      "image/png": "[encoded data removed]",
      "text/plain": [
       "<matplotlib.figure.Figure at 0x7f7b5bb2fe90>"
      ]
     },
     "metadata": {},
     "output_type": "display_data"
    }
   ],
   "source": [
    "import matplotlib.pyplot as plt\n",
    "%matplotlib inline  \n",
    "print np.sqrt(np.mean(np.square(tsTarget[:, 0]-tsPredicted[:, 0])))\n",
    "x = pd.Series(tsPredicted[:, 23])\n",
    "y = pd.Series(tsTarget[:, 23])\n",
    "x.plot(title=\"Fited\")\n",
    "#plt.figure()\n",
    "y.plot(title=\"True\")\n",
    "\n",
    "x = x*tsRange+tsMean\n",
    "y = y*tsRange+tsMean\n",
    "np.mean(np.abs(x-y)/y)"
   ]
  },
  {
   "cell_type": "code",
   "execution_count": null,
   "metadata": {
    "collapsed": false
   },
   "outputs": [],
   "source": [
    "from fbprophet import Prophet\n",
    "trainingDfs, completeDfs = loadData(\"GEFCom2012/\", maxDataPoints = -1)\n",
    "df = trainingDfs[0][[\"DateTime\", \"zone.1\"]]\n",
    "df = df.rename(columns={\"zone.1\":\"y\", \"DateTime\":\"ds\"})\n",
    "tsTest = completeDfs[0][[\"zone.1\"]].values\n",
    "tsTest = tsTest[len(df):]\n",
    "m = Prophet()\n",
    "m.fit(df);"
   ]
  },
  {
   "cell_type": "code",
   "execution_count": null,
   "metadata": {
    "collapsed": false
   },
   "outputs": [],
   "source": [
    "future = m.make_future_dataframe(periods=1)\n",
    "forecast = m.predict(future)"
   ]
  },
  {
   "cell_type": "code",
   "execution_count": null,
   "metadata": {
    "collapsed": false,
    "scrolled": true
   },
   "outputs": [],
   "source": [
    "m.plot(forecast)\n",
    "plt.figure()\n",
    "x = pd.Series(forecast.tail(168)[[\"yhat\"]].values[:,0])\n",
    "y = pd.Series(tsTest.flatten())\n",
    "x.plot()\n",
    "y.plot()"
   ]
  },
  {
   "cell_type": "code",
   "execution_count": null,
   "metadata": {
    "collapsed": false
   },
   "outputs": [],
   "source": [
    "a = forecast.tail(168)[[\"yhat\"]].values"
   ]
  },
  {
   "cell_type": "code",
   "execution_count": null,
   "metadata": {
    "collapsed": false
   },
   "outputs": [],
   "source": [
    "tsTest = completeDfs[0][[\"zone.1\"]].values\n",
    "tsTest = tsTest[len(df):]\n"
   ]
  },
  {
   "cell_type": "code",
   "execution_count": null,
   "metadata": {
    "collapsed": false
   },
   "outputs": [],
   "source": []
  },
  {
   "cell_type": "code",
   "execution_count": null,
   "metadata": {
    "collapsed": true
   },
   "outputs": [],
   "source": []
  }
 ],
 "metadata": {
  "kernelspec": {
   "display_name": "Python 2",
   "language": "python",
   "name": "python2"
  },
  "language_info": {
   "codemirror_mode": {
    "name": "ipython",
    "version": 2
   },
   "file_extension": ".py",
   "mimetype": "text/x-python",
   "name": "python",
   "nbconvert_exporter": "python",
   "pygments_lexer": "ipython2",
   "version": "2.7.6"
  }
 },
 "nbformat": 4,
 "nbformat_minor": 1
}
